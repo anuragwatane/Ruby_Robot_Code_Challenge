{
  "nbformat": 4,
  "nbformat_minor": 0,
  "metadata": {
    "colab": {
      "name": "RatePay_Coding_Challenge_Anurag.ipynb",
      "provenance": [],
      "collapsed_sections": []
    },
    "kernelspec": {
      "name": "python3",
      "display_name": "Python 3"
    },
    "language_info": {
      "name": "python"
    }
  },
  "cells": [
    {
      "cell_type": "code",
      "metadata": {
        "id": "Q3WxOBnWNT4q"
      },
      "source": [
        "movement_dict = {'N': 1, 'E': 1, 'S': -1, 'W': -1}\n",
        "\n",
        "facing_list = ['N', 'E', 'S', 'W']\n",
        "\n",
        "instruction_dict = {'R': 1, 'L': -1}"
      ],
      "execution_count": null,
      "outputs": []
    },
    {
      "cell_type": "code",
      "metadata": {
        "id": "6TL3N5uCRV7-"
      },
      "source": [
        "def robo_exploration(position, instructions):\n",
        "  \n",
        "  x = int( position.split()[0] )\n",
        "  y = int( position.split()[1] )\n",
        "  facing = position.split()[-1]\n",
        "  \n",
        "  for letter in instructions:\n",
        "\n",
        "    if letter == 'M':\n",
        "      \n",
        "      if facing == 'N' or facing == 'S':\n",
        "        y += movement_dict[facing]\n",
        "      else:\n",
        "        x += movement_dict[facing]\n",
        "\n",
        "    else:\n",
        "      \n",
        "      facing_list_index = facing_list.index(facing) + instruction_dict[letter]\n",
        "\n",
        "      if facing_list_index > 3:\n",
        "        facing = facing_list[0]\n",
        "      elif facing_list_index < 0:\n",
        "        facing = facing_list[-1]\n",
        "      else:\n",
        "        facing = facing_list[facing_list_index]\n",
        "    \n",
        "  print(f\"The new position of the Ruby Robot is: {x,y,facing}\")"
      ],
      "execution_count": null,
      "outputs": []
    },
    {
      "cell_type": "code",
      "metadata": {
        "colab": {
          "base_uri": "https://localhost:8080/"
        },
        "id": "nC7jZ2RLFwFq",
        "outputId": "4d723989-44de-45da-8e38-ca732894aa54"
      },
      "source": [
        "robo_exploration(\"2 3 E\", \"RMRMRLMRMRMRMR\")"
      ],
      "execution_count": null,
      "outputs": [
        {
          "output_type": "stream",
          "name": "stdout",
          "text": [
            "The new position of the Ruby Robot is: (1, 2, 'W')\n"
          ]
        }
      ]
    },
    {
      "cell_type": "code",
      "metadata": {
        "colab": {
          "base_uri": "https://localhost:8080/"
        },
        "id": "7OlGvsBJUETh",
        "outputId": "4a315897-4d25-4de2-fb52-6476f1e37621"
      },
      "source": [
        "robo_exploration(\"5 4 W\", \"LMRMLMRMRLMRRM\")"
      ],
      "execution_count": null,
      "outputs": [
        {
          "output_type": "stream",
          "name": "stdout",
          "text": [
            "The new position of the Ruby Robot is: (3, 2, 'E')\n"
          ]
        }
      ]
    }
  ]
}